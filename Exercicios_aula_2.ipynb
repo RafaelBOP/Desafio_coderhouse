{
 "cells": [
  {
   "cell_type": "code",
   "execution_count": 1,
   "metadata": {},
   "outputs": [
    {
     "name": "stdout",
     "output_type": "stream",
     "text": [
      "Seu novo saldo é 800.0\n"
     ]
    }
   ],
   "source": [
    "\"\"\"\n",
    "\n",
    "Atividade 1 \n",
    "\n",
    "\"\"\"\n",
    "\n",
    "saldo = 950.60\n",
    "saque = float(input(\"Quanto deseja sacar:\"))\n",
    "saldo = saldo - saque\n",
    "print(f\"Seu novo saldo é {saldo}\")"
   ]
  },
  {
   "cell_type": "code",
   "execution_count": 2,
   "metadata": {},
   "outputs": [
    {
     "name": "stdout",
     "output_type": "stream",
     "text": [
      "Escolha outra fruta! Sua escolha foi tomate\n",
      "Escolha outra fruta! Sua escolha foi siriguela\n",
      "Escolha outra fruta! Sua escolha foi mamao\n",
      "Fruta repetida. Sua escolha foi uva\n"
     ]
    }
   ],
   "source": [
    "\"\"\"\n",
    "\n",
    "Atividade 2 \n",
    "\n",
    "\"\"\"\n",
    "\n",
    "lista = [\"goiaba\", \"uva\", \"banana\", \"tamarindo\", \"manga\"]\n",
    "\n",
    "for frutas in lista:\n",
    "    fruta = input(\"Escolha uma fruta: \")\n",
    "    if fruta not in lista:\n",
    "        print(f\"Escolha outra fruta! Sua escolha foi {fruta}\")\n",
    "    else:\n",
    "        print(f\"Fruta repetida. Sua escolha foi {fruta}\")\n",
    "        break\n"
   ]
  },
  {
   "cell_type": "code",
   "execution_count": 10,
   "metadata": {},
   "outputs": [
    {
     "name": "stdout",
     "output_type": "stream",
     "text": [
      "A frase alterada foi: **, m* ch*m* R*f**l\n"
     ]
    }
   ],
   "source": [
    "\"\"\"\n",
    "\n",
    "Atividade 3 \n",
    "\n",
    "\"\"\"\n",
    "\n",
    "vogais = [\"a\", \"e\", \"i\", \"o\", \"u\"]\n",
    "frase = input(\"Digite uma frase:\")\n",
    "frase_2 = frase\n",
    "\n",
    "for vogal in vogais:\n",
    "    frase_2 = frase_2.replace(vogal, \"*\")\n",
    "\n",
    "print(f\"A frase alterada foi: {frase_2}\")\n"
   ]
  }
 ],
 "metadata": {
  "kernelspec": {
   "display_name": "Python 3",
   "language": "python",
   "name": "python3"
  },
  "language_info": {
   "codemirror_mode": {
    "name": "ipython",
    "version": 3
   },
   "file_extension": ".py",
   "mimetype": "text/x-python",
   "name": "python",
   "nbconvert_exporter": "python",
   "pygments_lexer": "ipython3",
   "version": "3.11.2"
  }
 },
 "nbformat": 4,
 "nbformat_minor": 2
}
