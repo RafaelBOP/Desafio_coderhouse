{
 "cells": [
  {
   "cell_type": "code",
   "execution_count": 1,
   "metadata": {},
   "outputs": [
    {
     "name": "stdout",
     "output_type": "stream",
     "text": [
      "Área do retângulo: 50\n",
      "Perímetro do retângulo: 30\n"
     ]
    }
   ],
   "source": [
    "\"\"\"\n",
    "\n",
    "Atividade 1\n",
    "\n",
    "\"\"\"\n",
    "\n",
    "class Retangulo:\n",
    "    def __init__(self, base, altura):\n",
    "        self.base = base\n",
    "        self.altura = altura\n",
    "\n",
    "    def area(self):\n",
    "        return self.base * self.altura\n",
    "\n",
    "    def perimetro(self):\n",
    "        return 2 * (self.base + self.altura)\n",
    "    \n",
    "retangulo = Retangulo(5, 10)\n",
    "print(\"Área do retângulo:\", retangulo.area())\n",
    "print(\"Perímetro do retângulo:\", retangulo.perimetro())"
   ]
  },
  {
   "cell_type": "code",
   "execution_count": 3,
   "metadata": {},
   "outputs": [
    {
     "name": "stdout",
     "output_type": "stream",
     "text": [
      "Conta de Rafael Pinheiro criada com saldo inicial de R$ 1000.00\n",
      "Depósito de R$ 1000.00 realizado com sucesso. Saldo atual: R$ 2000.00\n",
      "Saque de R$ 200.00 realizado com sucesso. Saldo atual: R$ 1800.00\n"
     ]
    }
   ],
   "source": [
    "\"\"\"\n",
    "\n",
    "Atividade 3\n",
    "\n",
    "\"\"\"\n",
    "\n",
    "class Conta:\n",
    "    def __init__(self, saldo_inicial, titular):\n",
    "        self.saldo = saldo_inicial\n",
    "        self.titular = titular\n",
    "\n",
    "    def depositar(self, valor):\n",
    "        if valor > 0:\n",
    "            self.saldo += valor\n",
    "            return f\"Depósito de R$ {valor:.2f} realizado com sucesso. Saldo atual: R$ {self.saldo:.2f}\"\n",
    "        else:\n",
    "            return \"Valor de depósito inválido.\"\n",
    "\n",
    "    def sacar(self, valor):\n",
    "        if 0 < valor <= self.saldo:\n",
    "            self.saldo -= valor\n",
    "            return f\"Saque de R$ {valor:.2f} realizado com sucesso. Saldo atual: R$ {self.saldo:.2f}\"\n",
    "        else:\n",
    "            return \"Saldo insuficiente ou valor de saque inválido.\"\n",
    "\n",
    "saldo_inicial = float(input(\"Digite o saldo inicial da conta: \"))\n",
    "titular = input(\"Digite o nome do titular da conta: \")\n",
    "\n",
    "minha_conta = Conta(saldo_inicial, titular)\n",
    "print(f\"Conta de {minha_conta.titular} criada com saldo inicial de R$ {minha_conta.saldo:.2f}\")\n",
    "print(minha_conta.depositar(1000))\n",
    "print(minha_conta.sacar(200))\n"
   ]
  }
 ],
 "metadata": {
  "kernelspec": {
   "display_name": "Python 3",
   "language": "python",
   "name": "python3"
  },
  "language_info": {
   "codemirror_mode": {
    "name": "ipython",
    "version": 3
   },
   "file_extension": ".py",
   "mimetype": "text/x-python",
   "name": "python",
   "nbconvert_exporter": "python",
   "pygments_lexer": "ipython3",
   "version": "3.11.2"
  }
 },
 "nbformat": 4,
 "nbformat_minor": 2
}
