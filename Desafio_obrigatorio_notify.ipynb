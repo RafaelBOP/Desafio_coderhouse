{
 "cells": [
  {
   "cell_type": "code",
   "execution_count": 1,
   "metadata": {},
   "outputs": [],
   "source": [
    "from plyer import notification\n",
    "from datetime import datetime"
   ]
  },
  {
   "cell_type": "code",
   "execution_count": 11,
   "metadata": {},
   "outputs": [],
   "source": [
    "def alerta(nivel, base, etapa):\n",
    "    mensagem = f\"Falha no carregamento da base {base} na etapa {etapa}\"\n",
    "    \n",
    "    if nivel == 1:\n",
    "        titulo = \"Alerta Baixo\"\n",
    "    elif nivel == 2:\n",
    "        titulo = \"Alerta Médio\"\n",
    "    else:\n",
    "        nivel == 3\n",
    "        titulo = \"Alerta Alto\"\n",
    "    \n",
    "    data_atual = datetime.now().strftime(\"%d-%m-%Y %H:%M:%S\")\n",
    "    \n",
    "    notification.notify(\n",
    "        title = titulo,\n",
    "        message = f\"{mensagem}\\n{data_atual}\" \n",
    "    )\n"
   ]
  },
  {
   "cell_type": "code",
   "execution_count": 13,
   "metadata": {},
   "outputs": [],
   "source": [
    "alerta(nivel = 2,\n",
    "       base = \"CLIENTES\",\n",
    "       etapa = \"EXTRACAO\")"
   ]
  }
 ],
 "metadata": {
  "kernelspec": {
   "display_name": "Python 3",
   "language": "python",
   "name": "python3"
  },
  "language_info": {
   "codemirror_mode": {
    "name": "ipython",
    "version": 3
   },
   "file_extension": ".py",
   "mimetype": "text/x-python",
   "name": "python",
   "nbconvert_exporter": "python",
   "pygments_lexer": "ipython3",
   "version": "3.11.2"
  }
 },
 "nbformat": 4,
 "nbformat_minor": 2
}
