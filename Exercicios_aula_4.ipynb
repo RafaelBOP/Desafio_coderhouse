{
 "cells": [
  {
   "cell_type": "code",
   "execution_count": 1,
   "metadata": {},
   "outputs": [
    {
     "name": "stdout",
     "output_type": "stream",
     "text": [
      "True\n",
      "False\n"
     ]
    }
   ],
   "source": [
    "\"\"\"\n",
    "\n",
    "Atividade 1\n",
    "\n",
    "\"\"\"\n",
    "\n",
    "eh_multiplo_dez = lambda numero: numero % 10 == 0\n",
    "\n",
    "print(eh_multiplo_dez(200))\n",
    "print(eh_multiplo_dez(5))\n"
   ]
  },
  {
   "cell_type": "code",
   "execution_count": 6,
   "metadata": {},
   "outputs": [
    {
     "name": "stdout",
     "output_type": "stream",
     "text": [
      "120\n"
     ]
    }
   ],
   "source": [
    "\"\"\"\n",
    "\n",
    "Atividade 2\n",
    "\n",
    "\"\"\"\n",
    "\n",
    "def calcular_fatorial(numero):\n",
    "    resultado = 1\n",
    "    for n in range(1, numero + 1):\n",
    "        resultado *= n\n",
    "    return resultado\n",
    "\n",
    "\n",
    "print(calcular_fatorial(5))"
   ]
  },
  {
   "cell_type": "code",
   "execution_count": null,
   "metadata": {},
   "outputs": [],
   "source": [
    "\"\"\"\n",
    "\n",
    "Atividade 3\n",
    "\n",
    "\"\"\"\n",
    "nomes = ['João Carlos', 'Maria Eduarda', 'Ana Rute', 'Ana Clara']\n",
    "\n",
    "def primeiro_nome(nome_completo):\n",
    "    return nome_completo.split()[0]\n",
    "\n",
    "primeiros_nomes = list(map(primeiro_nome, nomes))\n",
    "print(primeiros_nomes)\n"
   ]
  },
  {
   "cell_type": "code",
   "execution_count": null,
   "metadata": {},
   "outputs": [],
   "source": [
    "\"\"\"\n",
    "\n",
    "Atividade 4\n",
    "\n",
    "\"\"\"\n",
    "\n",
    "\n",
    "from datetime import datetime\n",
    "\n",
    "def dia_da_semana(data_str):\n",
    "    try:\n",
    "        data = datetime.strptime(data_str, '%d/%m/%Y')\n",
    "        dias_da_semana = [\"Segunda-feira\", \"Terça-feira\", \"Quarta-feira\", \"Quinta-feira\", \"Sexta-feira\", \"Sábado\", \"Domingo\"]\n",
    "        dia_semana = dias_da_semana[data.weekday()]\n",
    "        return dia_semana\n",
    "    except ValueError:\n",
    "        return \"Data inválida\"\n",
    "\n",
    "data_str = input(\"Digite a data (dd/mm/aaaa): \")\n",
    "resultado = dia_da_semana(data_str)\n",
    "print(resultado)\n"
   ]
  }
 ],
 "metadata": {
  "kernelspec": {
   "display_name": "Python 3",
   "language": "python",
   "name": "python3"
  },
  "language_info": {
   "codemirror_mode": {
    "name": "ipython",
    "version": 3
   },
   "file_extension": ".py",
   "mimetype": "text/x-python",
   "name": "python",
   "nbconvert_exporter": "python",
   "pygments_lexer": "ipython3",
   "version": "3.11.2"
  }
 },
 "nbformat": 4,
 "nbformat_minor": 2
}
