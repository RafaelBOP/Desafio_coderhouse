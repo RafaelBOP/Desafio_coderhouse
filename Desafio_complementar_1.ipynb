{
 "cells": [
  {
   "cell_type": "code",
   "execution_count": 8,
   "metadata": {},
   "outputs": [
    {
     "name": "stdout",
     "output_type": "stream",
     "text": [
      "Seu IMC é 26.04\n"
     ]
    }
   ],
   "source": [
    "# Exercício 1 - Calculadora de IMC\n",
    "\n",
    "\n",
    "peso = int(input(\"Insira seu peso (em Kg): \"))\n",
    "altura = float(input(\"Insira sua altura (em m): \"))\n",
    "\n",
    "IMC = peso / (altura ** 2)\n",
    "\n",
    "print(f\"Seu IMC é {IMC:.2f}\")\n"
   ]
  },
  {
   "cell_type": "code",
   "execution_count": 1,
   "metadata": {},
   "outputs": [
    {
     "name": "stdout",
     "output_type": "stream",
     "text": [
      "A lista de números é [10, 20, 35, 999, 1]\n"
     ]
    }
   ],
   "source": [
    "#  Execício 2 - Lista de 5 Números\n",
    "\n",
    "lista = []\n",
    "\n",
    "for i in range(5):\n",
    "    numero = int(input(f\"Insira o {i + 1}º número inteiro: \"))\n",
    "    lista.append(numero)\n",
    "print(f\"A lista de números é {lista}\")"
   ]
  },
  {
   "cell_type": "code",
   "execution_count": 10,
   "metadata": {},
   "outputs": [
    {
     "name": "stdout",
     "output_type": "stream",
     "text": [
      "Sua lista de nomes é: ['João', ' Ana', ' Rafael', ' Gustavo', ' Marcela', ' Sarah']\n"
     ]
    }
   ],
   "source": [
    "# Exercício 3  - Lista de Nomes\n",
    "\n",
    "nomes = input(\"Insira uma lista de nomes separados por vírgulas:\")\n",
    "\n",
    "lista = nomes.split(\",\")\n",
    "\n",
    "print(f\"Sua lista de nomes é: {lista}\")"
   ]
  }
 ],
 "metadata": {
  "kernelspec": {
   "display_name": "Python 3",
   "language": "python",
   "name": "python3"
  },
  "language_info": {
   "codemirror_mode": {
    "name": "ipython",
    "version": 3
   },
   "file_extension": ".py",
   "mimetype": "text/x-python",
   "name": "python",
   "nbconvert_exporter": "python",
   "pygments_lexer": "ipython3",
   "version": "3.11.2"
  }
 },
 "nbformat": 4,
 "nbformat_minor": 2
}
