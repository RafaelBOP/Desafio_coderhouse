{
 "cells": [
  {
   "cell_type": "code",
   "execution_count": null,
   "metadata": {},
   "outputs": [],
   "source": [
    "\"\"\"\n",
    "\n",
    "Atividade 1\n",
    "\n",
    "\"\"\"\n",
    "\n",
    "numero = int(input(\"Digite um número inteiro:\"))\n",
    "\n",
    "if numero % 2 == 0:\n",
    "    print(f\"{numero} é um número par.\")\n",
    "else:\n",
    "    print(f\"{numero} é um número ímpar.\")\n"
   ]
  },
  {
   "cell_type": "code",
   "execution_count": 1,
   "metadata": {},
   "outputs": [
    {
     "name": "stdout",
     "output_type": "stream",
     "text": [
      "A palavra 'bom' possui 3 letras.\n",
      "A palavra 'dia' possui 3 letras.\n"
     ]
    }
   ],
   "source": [
    "\"\"\"\n",
    "\n",
    "Atividade 2\n",
    "\n",
    "\"\"\"\n",
    "\n",
    "frase = input(\"Digite uma frase: \")\n",
    "\n",
    "palavras = frase.split()\n",
    "\n",
    "for palavra in palavras:\n",
    "    palavra = palavra.strip('.,!?;:\"')\n",
    "    num_letras = len(palavra)\n",
    "    print(f\"A palavra '{palavra}' possui {num_letras} letras.\")\n"
   ]
  },
  {
   "cell_type": "code",
   "execution_count": 3,
   "metadata": {},
   "outputs": [
    {
     "name": "stdout",
     "output_type": "stream",
     "text": [
      "Senha incorreta.\n",
      "Senha correta!\n"
     ]
    }
   ],
   "source": [
    "\"\"\"\n",
    "\n",
    "Atividade 3\n",
    "\n",
    "\"\"\"\n",
    "\n",
    "senha_correta = \"1234\"\n",
    "\n",
    "while True:\n",
    "    senha = input(\"Digite a senha numérica de 4 dígitos: \")\n",
    "    \n",
    "    if senha == senha_correta:\n",
    "        print(\"Senha correta!\")\n",
    "        break\n",
    "    else:\n",
    "        print(\"Senha incorreta.\")\n"
   ]
  },
  {
   "cell_type": "code",
   "execution_count": 5,
   "metadata": {},
   "outputs": [
    {
     "name": "stdout",
     "output_type": "stream",
     "text": [
      "720\n"
     ]
    }
   ],
   "source": [
    "\"\"\"\n",
    "\n",
    "Atividade 4\n",
    "\n",
    "\"\"\"\n",
    "\n",
    "numero = int(input(\"Fatorial de: \") )\n",
    "\n",
    "resultado=1\n",
    "for n in range(1,numero+1):\n",
    "    resultado *= n\n",
    "\n",
    "print(resultado)"
   ]
  },
  {
   "cell_type": "code",
   "execution_count": 27,
   "metadata": {},
   "outputs": [
    {
     "name": "stdout",
     "output_type": "stream",
     "text": [
      "o mês é Janeiro e a quantidade é 232\n",
      "o mês é Fevereiro e a quantidade é 321\n",
      "o mês é Junho e a quantidade é 589\n",
      "o mês é Julho e a quantidade é 547\n"
     ]
    }
   ],
   "source": [
    "\"\"\"\n",
    "\n",
    "Atividade 5\n",
    "\n",
    "\"\"\"\n",
    "\n",
    "dic = {\n",
    "    \"Janeiro\":232,\n",
    "    \"Fevereiro\":321,\n",
    "    \"Junho\":589,\n",
    "    \"Julho\":547 \n",
    "}\n",
    "\n",
    "for x,y in dic.items():\n",
    "    print(f\"o mês é {x} e a quantidade é {y}\")"
   ]
  }
 ],
 "metadata": {
  "kernelspec": {
   "display_name": "Python 3",
   "language": "python",
   "name": "python3"
  },
  "language_info": {
   "codemirror_mode": {
    "name": "ipython",
    "version": 3
   },
   "file_extension": ".py",
   "mimetype": "text/x-python",
   "name": "python",
   "nbconvert_exporter": "python",
   "pygments_lexer": "ipython3",
   "version": "3.11.2"
  }
 },
 "nbformat": 4,
 "nbformat_minor": 2
}
